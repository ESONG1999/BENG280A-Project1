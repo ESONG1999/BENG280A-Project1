{
 "cells": [
  {
   "cell_type": "code",
   "execution_count": 33,
   "id": "ae13a3cf",
   "metadata": {},
   "outputs": [],
   "source": [
    "import torch\n",
    "import numpy as np"
   ]
  },
  {
   "cell_type": "code",
   "execution_count": 2,
   "id": "976b1563",
   "metadata": {},
   "outputs": [],
   "source": [
    "weight = torch.load('checkpoints/checkpoint_epoch20.pth')"
   ]
  },
  {
   "cell_type": "code",
   "execution_count": 5,
   "id": "d00b9d13",
   "metadata": {},
   "outputs": [
    {
     "name": "stdout",
     "output_type": "stream",
     "text": [
      "odict_keys(['inc.double_conv.0.weight', 'inc.double_conv.1.weight', 'inc.double_conv.1.bias', 'inc.double_conv.1.running_mean', 'inc.double_conv.1.running_var', 'inc.double_conv.1.num_batches_tracked', 'inc.double_conv.3.weight', 'inc.double_conv.4.weight', 'inc.double_conv.4.bias', 'inc.double_conv.4.running_mean', 'inc.double_conv.4.running_var', 'inc.double_conv.4.num_batches_tracked', 'down1.maxpool_conv.1.double_conv.0.weight', 'down1.maxpool_conv.1.double_conv.1.weight', 'down1.maxpool_conv.1.double_conv.1.bias', 'down1.maxpool_conv.1.double_conv.1.running_mean', 'down1.maxpool_conv.1.double_conv.1.running_var', 'down1.maxpool_conv.1.double_conv.1.num_batches_tracked', 'down1.maxpool_conv.1.double_conv.3.weight', 'down1.maxpool_conv.1.double_conv.4.weight', 'down1.maxpool_conv.1.double_conv.4.bias', 'down1.maxpool_conv.1.double_conv.4.running_mean', 'down1.maxpool_conv.1.double_conv.4.running_var', 'down1.maxpool_conv.1.double_conv.4.num_batches_tracked', 'down2.maxpool_conv.1.double_conv.0.weight', 'down2.maxpool_conv.1.double_conv.1.weight', 'down2.maxpool_conv.1.double_conv.1.bias', 'down2.maxpool_conv.1.double_conv.1.running_mean', 'down2.maxpool_conv.1.double_conv.1.running_var', 'down2.maxpool_conv.1.double_conv.1.num_batches_tracked', 'down2.maxpool_conv.1.double_conv.3.weight', 'down2.maxpool_conv.1.double_conv.4.weight', 'down2.maxpool_conv.1.double_conv.4.bias', 'down2.maxpool_conv.1.double_conv.4.running_mean', 'down2.maxpool_conv.1.double_conv.4.running_var', 'down2.maxpool_conv.1.double_conv.4.num_batches_tracked', 'down3.maxpool_conv.1.double_conv.0.weight', 'down3.maxpool_conv.1.double_conv.1.weight', 'down3.maxpool_conv.1.double_conv.1.bias', 'down3.maxpool_conv.1.double_conv.1.running_mean', 'down3.maxpool_conv.1.double_conv.1.running_var', 'down3.maxpool_conv.1.double_conv.1.num_batches_tracked', 'down3.maxpool_conv.1.double_conv.3.weight', 'down3.maxpool_conv.1.double_conv.4.weight', 'down3.maxpool_conv.1.double_conv.4.bias', 'down3.maxpool_conv.1.double_conv.4.running_mean', 'down3.maxpool_conv.1.double_conv.4.running_var', 'down3.maxpool_conv.1.double_conv.4.num_batches_tracked', 'down4.maxpool_conv.1.double_conv.0.weight', 'down4.maxpool_conv.1.double_conv.1.weight', 'down4.maxpool_conv.1.double_conv.1.bias', 'down4.maxpool_conv.1.double_conv.1.running_mean', 'down4.maxpool_conv.1.double_conv.1.running_var', 'down4.maxpool_conv.1.double_conv.1.num_batches_tracked', 'down4.maxpool_conv.1.double_conv.3.weight', 'down4.maxpool_conv.1.double_conv.4.weight', 'down4.maxpool_conv.1.double_conv.4.bias', 'down4.maxpool_conv.1.double_conv.4.running_mean', 'down4.maxpool_conv.1.double_conv.4.running_var', 'down4.maxpool_conv.1.double_conv.4.num_batches_tracked', 'up1.up.weight', 'up1.up.bias', 'up1.conv.double_conv.0.weight', 'up1.conv.double_conv.1.weight', 'up1.conv.double_conv.1.bias', 'up1.conv.double_conv.1.running_mean', 'up1.conv.double_conv.1.running_var', 'up1.conv.double_conv.1.num_batches_tracked', 'up1.conv.double_conv.3.weight', 'up1.conv.double_conv.4.weight', 'up1.conv.double_conv.4.bias', 'up1.conv.double_conv.4.running_mean', 'up1.conv.double_conv.4.running_var', 'up1.conv.double_conv.4.num_batches_tracked', 'up2.up.weight', 'up2.up.bias', 'up2.conv.double_conv.0.weight', 'up2.conv.double_conv.1.weight', 'up2.conv.double_conv.1.bias', 'up2.conv.double_conv.1.running_mean', 'up2.conv.double_conv.1.running_var', 'up2.conv.double_conv.1.num_batches_tracked', 'up2.conv.double_conv.3.weight', 'up2.conv.double_conv.4.weight', 'up2.conv.double_conv.4.bias', 'up2.conv.double_conv.4.running_mean', 'up2.conv.double_conv.4.running_var', 'up2.conv.double_conv.4.num_batches_tracked', 'up3.up.weight', 'up3.up.bias', 'up3.conv.double_conv.0.weight', 'up3.conv.double_conv.1.weight', 'up3.conv.double_conv.1.bias', 'up3.conv.double_conv.1.running_mean', 'up3.conv.double_conv.1.running_var', 'up3.conv.double_conv.1.num_batches_tracked', 'up3.conv.double_conv.3.weight', 'up3.conv.double_conv.4.weight', 'up3.conv.double_conv.4.bias', 'up3.conv.double_conv.4.running_mean', 'up3.conv.double_conv.4.running_var', 'up3.conv.double_conv.4.num_batches_tracked', 'up4.up.weight', 'up4.up.bias', 'up4.conv.double_conv.0.weight', 'up4.conv.double_conv.1.weight', 'up4.conv.double_conv.1.bias', 'up4.conv.double_conv.1.running_mean', 'up4.conv.double_conv.1.running_var', 'up4.conv.double_conv.1.num_batches_tracked', 'up4.conv.double_conv.3.weight', 'up4.conv.double_conv.4.weight', 'up4.conv.double_conv.4.bias', 'up4.conv.double_conv.4.running_mean', 'up4.conv.double_conv.4.running_var', 'up4.conv.double_conv.4.num_batches_tracked', 'outc.conv.weight', 'outc.conv.bias'])\n"
     ]
    }
   ],
   "source": [
    "print(weight.keys())"
   ]
  },
  {
   "cell_type": "code",
   "execution_count": 7,
   "id": "6da3d78c",
   "metadata": {},
   "outputs": [
    {
     "name": "stdout",
     "output_type": "stream",
     "text": [
      "torch.Size([2, 64, 1, 1])\n"
     ]
    }
   ],
   "source": [
    "print(weight['outc.conv.weight'].size())"
   ]
  },
  {
   "cell_type": "code",
   "execution_count": 10,
   "id": "b77ef249",
   "metadata": {},
   "outputs": [],
   "source": [
    "import matplotlib.pyplot as plt"
   ]
  },
  {
   "cell_type": "code",
   "execution_count": 26,
   "id": "4499db66",
   "metadata": {},
   "outputs": [],
   "source": [
    "channel_1 = weight['outc.conv.weight'][0]\n",
    "channel_2 = weight['outc.conv.weight'][1]"
   ]
  },
  {
   "cell_type": "code",
   "execution_count": 27,
   "id": "7a9ed008",
   "metadata": {},
   "outputs": [
    {
     "name": "stdout",
     "output_type": "stream",
     "text": [
      "torch.Size([64, 1, 1])\n"
     ]
    }
   ],
   "source": [
    "print(channel_1.size())"
   ]
  },
  {
   "cell_type": "code",
   "execution_count": 29,
   "id": "c03aa00b",
   "metadata": {},
   "outputs": [
    {
     "data": {
      "text/plain": [
       "<matplotlib.colorbar.Colorbar at 0x7fabe04e8550>"
      ]
     },
     "execution_count": 29,
     "metadata": {},
     "output_type": "execute_result"
    },
    {
     "data": {
      "image/png": "[encoded data removed]",
      "text/plain": [
       "<Figure size 432x288 with 2 Axes>"
      ]
     },
     "metadata": {
      "needs_background": "light"
     },
     "output_type": "display_data"
    }
   ],
   "source": [
    "channel_1 = torch.squeeze(channel_1, 1)\n",
    "channel_1 = channel_1.view(8, 8)\n",
    "plt.imshow(channel_1.cpu().numpy())\n",
    "plt.colorbar()"
   ]
  },
  {
   "cell_type": "code",
   "execution_count": 30,
   "id": "da82c2f6",
   "metadata": {},
   "outputs": [
    {
     "data": {
      "text/plain": [
       "<matplotlib.colorbar.Colorbar at 0x7fabb4b41350>"
      ]
     },
     "execution_count": 30,
     "metadata": {},
     "output_type": "execute_result"
    },
    {
     "data": {
      "image/png": "[encoded data removed]",
      "text/plain": [
       "<Figure size 432x288 with 2 Axes>"
      ]
     },
     "metadata": {
      "needs_background": "light"
     },
     "output_type": "display_data"
    }
   ],
   "source": [
    "channel_2 = torch.squeeze(channel_1, 1)\n",
    "channel_2 = channel_2.view(8, 8)\n",
    "plt.imshow(channel_2.cpu().numpy())\n",
    "plt.colorbar()"
   ]
  },
  {
   "cell_type": "code",
   "execution_count": 8,
   "id": "32aeae41",
   "metadata": {},
   "outputs": [
    {
     "name": "stdout",
     "output_type": "stream",
     "text": [
      "torch.Size([64, 1, 3, 3])\n"
     ]
    }
   ],
   "source": [
    "print(weight['inc.double_conv.0.weight'].size())"
   ]
  },
  {
   "cell_type": "code",
   "execution_count": 25,
   "id": "3e0a49a5",
   "metadata": {},
   "outputs": [],
   "source": [
    "channel_3 = weight['inc.double_conv.0.weight']\n",
    "channel_3 = torch.squeeze(channel_3, 1)"
   ]
  },
  {
   "cell_type": "code",
   "execution_count": 31,
   "id": "fc81012c",
   "metadata": {},
   "outputs": [],
   "source": [
    "channel_3 = channel_3.cpu().numpy()"
   ]
  },
  {
   "cell_type": "code",
   "execution_count": 38,
   "id": "9d5e4ffa",
   "metadata": {},
   "outputs": [],
   "source": [
    "empty = np.zeros((24,24))"
   ]
  },
  {
   "cell_type": "code",
   "execution_count": 41,
   "id": "4c94d199",
   "metadata": {},
   "outputs": [],
   "source": [
    "for i in range(8):\n",
    "    for j in range(8):\n",
    "        empty[i*3:(i+1)*3, j*3:(j+1)*3] = channel_3[i*8+j]"
   ]
  },
  {
   "cell_type": "code",
   "execution_count": 43,
   "id": "d83ea587",
   "metadata": {},
   "outputs": [
    {
     "data": {
      "text/plain": [
       "<matplotlib.colorbar.Colorbar at 0x7fabb4a2e950>"
      ]
     },
     "execution_count": 43,
     "metadata": {},
     "output_type": "execute_result"
    },
    {
     "data": {
      "image/png": "[encoded data removed]",
      "text/plain": [
       "<Figure size 432x288 with 2 Axes>"
      ]
     },
     "metadata": {
      "needs_background": "light"
     },
     "output_type": "display_data"
    }
   ],
   "source": [
    "plt.imshow(empty)\n",
    "plt.colorbar()"
   ]
  }
 ],
 "metadata": {
  "kernelspec": {
   "display_name": "Python 3",
   "language": "python",
   "name": "python3"
  },
  "language_info": {
   "codemirror_mode": {
    "name": "ipython",
    "version": 3
   },
   "file_extension": ".py",
   "mimetype": "text/x-python",
   "name": "python",
   "nbconvert_exporter": "python",
   "pygments_lexer": "ipython3",
   "version": "3.7.10"
  }
 },
 "nbformat": 4,
 "nbformat_minor": 5
}
